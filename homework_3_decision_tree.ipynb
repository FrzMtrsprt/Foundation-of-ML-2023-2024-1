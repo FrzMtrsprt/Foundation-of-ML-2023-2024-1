{
 "cells": [
  {
   "cell_type": "code",
   "execution_count": 1,
   "metadata": {},
   "outputs": [],
   "source": [
    "import numpy as np\n",
    "import numpy.typing as npt"
   ]
  },
  {
   "cell_type": "code",
   "execution_count": 2,
   "metadata": {},
   "outputs": [
    {
     "name": "stdout",
     "output_type": "stream",
     "text": [
      "(600, 6)\n",
      "(600,)\n"
     ]
    }
   ],
   "source": [
    "data_113 = np.loadtxt('dataset/20151026_113_labeled.txt')\n",
    "data_114 = np.loadtxt('dataset/20151026_114_labeled.txt')\n",
    "data = np.concatenate((data_113, data_114), axis=0)\n",
    "\n",
    "features = data[:, :6]\n",
    "labels = data[:, 6]\n",
    "\n",
    "print(features.shape)\n",
    "print(labels.shape)"
   ]
  },
  {
   "cell_type": "code",
   "execution_count": 3,
   "metadata": {},
   "outputs": [],
   "source": [
    "def calc_entropy(labels: npt.NDArray[np.float64]) -> float:\n",
    "    entropy = 0\n",
    "    for label in np.unique(labels):\n",
    "        prob = np.sum(labels == label) / len(labels)\n",
    "        entropy -= prob * np.log2(prob)\n",
    "    return entropy\n",
    "\n",
    "\n",
    "def calc_info_gain(features: npt.NDArray[np.float64], labels: npt.NDArray[np.float64], split_value: float) -> float:\n",
    "    entropy = calc_entropy(labels)\n",
    "    left_labels = labels[features < split_value]\n",
    "    right_labels = labels[features >= split_value]\n",
    "    left_entropy = calc_entropy(left_labels)\n",
    "    right_entropy = calc_entropy(right_labels)\n",
    "    left_prob = len(left_labels) / len(labels)\n",
    "    right_prob = len(right_labels) / len(labels)\n",
    "    info_gain = entropy - left_prob * left_entropy - right_prob * right_entropy\n",
    "    return info_gain\n",
    "\n",
    "\n",
    "def choose_best_feature(features: npt.NDArray[np.float64], labels: npt.NDArray[np.float64]) -> tuple[int, float]:\n",
    "    best_feature_index = -1\n",
    "    best_split_value = -1\n",
    "    best_info_gain = 0\n",
    "    for feature_index in range(features.shape[1]):\n",
    "        feature = features[:, feature_index]\n",
    "        for value in feature:\n",
    "            info_gain = calc_info_gain(feature, labels, value)\n",
    "            if info_gain > best_info_gain:\n",
    "                best_feature_index = feature_index\n",
    "                best_split_value = value\n",
    "                best_info_gain = info_gain\n",
    "    return best_feature_index, best_split_value"
   ]
  }
 ],
 "metadata": {
  "kernelspec": {
   "display_name": "ml",
   "language": "python",
   "name": "python3"
  },
  "language_info": {
   "codemirror_mode": {
    "name": "ipython",
    "version": 3
   },
   "file_extension": ".py",
   "mimetype": "text/x-python",
   "name": "python",
   "nbconvert_exporter": "python",
   "pygments_lexer": "ipython3",
   "version": "3.11.5"
  }
 },
 "nbformat": 4,
 "nbformat_minor": 2
}
